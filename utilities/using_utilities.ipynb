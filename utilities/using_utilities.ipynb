{
 "cells": [
  {
   "cell_type": "markdown",
   "metadata": {},
   "source": [
    "# Using the PETITE utilities to generate new integrator maps\n",
    "Authors: Kevin J. Kelly (Texas A&M), Nikita Blinov (U. Victoria), Ryan Plestid (Caltech), Patrick J. Fox (Fermilab), and Pedro A.N. Machado (Fermilab)\n",
    "\n",
    "! Warning: running this can be time consuming !\n",
    "\n",
    "* First we will generate all the Standard Model processes ('Brem', 'PairProd', 'Comp', 'Ann', 'Moller', 'Bhabha') for a range of energies.\n",
    "* Second we will generate integrators for dark Bremsstrahlung for a range of dark vector masses\n",
    "\n"
   ]
  },
  {
   "cell_type": "code",
   "execution_count": 11,
   "metadata": {},
   "outputs": [
    {
     "name": "stdout",
     "output_type": "stream",
     "text": [
      "The autoreload extension is already loaded. To reload it, use:\n",
      "  %reload_ext autoreload\n"
     ]
    }
   ],
   "source": [
    "%load_ext autoreload\n",
    "%autoreload 2"
   ]
  },
  {
   "cell_type": "code",
   "execution_count": 12,
   "metadata": {},
   "outputs": [
    {
     "name": "stdout",
     "output_type": "stream",
     "text": [
      "/Users/mhostert/Repos/PETITE\n"
     ]
    }
   ],
   "source": [
    "# import necessary functions\n",
    "import numpy as np\n",
    "import os\n",
    "path = os.getcwd()\n",
    "path = os.path.split(path)[0]\n",
    "print(path)\n",
    "\n",
    "import generate_integrators as genint\n",
    "import find_maxes\n",
    "from PETITE import physical_constants as pconst"
   ]
  },
  {
   "cell_type": "markdown",
   "metadata": {},
   "source": [
    "# Bulk generation"
   ]
  },
  {
   "cell_type": "code",
   "execution_count": 18,
   "metadata": {},
   "outputs": [
    {
     "name": "stdout",
     "output_type": "stream",
     "text": [
      "Stitched integrator saved as /Users/mhostert/Repos/PETITE/MH_data//Brem//Brem_AdaptiveMaps.npy\n",
      "Cleaning up files in /Users/mhostert/Repos/PETITE/MH_data//Brem/\n",
      "Stitched integrator saved as /Users/mhostert/Repos/PETITE/MH_data//PairProd//PairProd_AdaptiveMaps.npy\n",
      "Cleaning up files in /Users/mhostert/Repos/PETITE/MH_data//PairProd/\n",
      "Stitched integrator saved as /Users/mhostert/Repos/PETITE/MH_data//Comp//Comp_AdaptiveMaps.npy\n",
      "Cleaning up files in /Users/mhostert/Repos/PETITE/MH_data//Comp/\n",
      "Stitched integrator saved as /Users/mhostert/Repos/PETITE/MH_data//Ann//Ann_AdaptiveMaps.npy\n",
      "Cleaning up files in /Users/mhostert/Repos/PETITE/MH_data//Ann/\n",
      "Stitched integrator saved as /Users/mhostert/Repos/PETITE/MH_data//Moller//Moller_AdaptiveMaps.npy\n",
      "Cleaning up files in /Users/mhostert/Repos/PETITE/MH_data//Moller/\n",
      "Stitched integrator saved as /Users/mhostert/Repos/PETITE/MH_data//Bhabha//Bhabha_AdaptiveMaps.npy\n",
      "Cleaning up files in /Users/mhostert/Repos/PETITE/MH_data//Bhabha/\n"
     ]
    }
   ],
   "source": [
    "\n",
    "##################################\n",
    "##         SM processes         ##\n",
    "##################################\n",
    "\n",
    "# List of incoming particle energies at which to calculate integrators for each process\n",
    "initial_energy_list = np.geomspace(0.0016, 5e3, 500)\n",
    "# Necessary parameters for generating the integrators, note save_location should be altered as preferred\n",
    "training_params = {'verbosity':False, \n",
    "                   'initial_energy_list':initial_energy_list,\n",
    "                   'save_location':path + '/MH_data/',\n",
    "                   'run_find_maxes':True}\n",
    "\n",
    "# Necessary parameters for processing the integrators to determine cross sections\n",
    "processing_params = {'process_targets':['graphite','lead'], 'save_location':path + '/MH_data/', 'neval': 1000, 'n_trials': 500}\n",
    "\n",
    "# List of processes to do\n",
    "processes_to_do = ['Brem', 'PairProd', 'Comp', 'Ann', 'Moller', 'Bhabha']\n",
    "\n",
    "# Loop over processes, carrying out each step of the calculation, they can also be called in one command generate_integrators\n",
    "for process in processes_to_do:\n",
    "    genint.make_integrators(training_params, process, overwrite=True)\n",
    "    genint.stitch_integrators(training_params['save_location'] + '/' + process + '/')\n",
    "    genint.cleanup(training_params['save_location'] + \"/\" + process + \"/\")"
   ]
  },
  {
   "cell_type": "code",
   "execution_count": 19,
   "metadata": {},
   "outputs": [
    {
     "name": "stdout",
     "output_type": "stream",
     "text": [
      "List of processes:  ['Brem', 'PairProd', 'Comp', 'Ann', 'Moller', 'Bhabha']\n",
      "List of target materials:  ['graphite', 'lead']\n",
      "[Errno 2] No such file or directory: '/Users/mhostert/Repos/PETITE/MH_data//auxiliary/Brem/Brem_AdaptiveMaps.npy'\n",
      "Tried to load adaptive maps /Users/mhostert/Repos/PETITE/MH_data//auxiliary/Brem/Brem_AdaptiveMaps.npy but could not find them.\n",
      "Trying again at /Users/mhostert/Repos/PETITE/MH_data/Brem/Brem_AdaptiveMaps.npy\n",
      "File being processed:  /Users/mhostert/Repos/PETITE/MH_data/Brem/Brem_AdaptiveMaps.npy\n",
      "[Errno 2] No such file or directory: '/Users/mhostert/Repos/PETITE/MH_data//auxiliary/PairProd/PairProd_AdaptiveMaps.npy'\n",
      "Tried to load adaptive maps /Users/mhostert/Repos/PETITE/MH_data//auxiliary/PairProd/PairProd_AdaptiveMaps.npy but could not find them.\n",
      "Trying again at /Users/mhostert/Repos/PETITE/MH_data/PairProd/PairProd_AdaptiveMaps.npy\n",
      "File being processed:  /Users/mhostert/Repos/PETITE/MH_data/PairProd/PairProd_AdaptiveMaps.npy\n",
      "[Errno 2] No such file or directory: '/Users/mhostert/Repos/PETITE/MH_data//auxiliary/Comp/Comp_AdaptiveMaps.npy'\n",
      "Tried to load adaptive maps /Users/mhostert/Repos/PETITE/MH_data//auxiliary/Comp/Comp_AdaptiveMaps.npy but could not find them.\n",
      "Trying again at /Users/mhostert/Repos/PETITE/MH_data/Comp/Comp_AdaptiveMaps.npy\n",
      "File being processed:  /Users/mhostert/Repos/PETITE/MH_data/Comp/Comp_AdaptiveMaps.npy\n",
      "[Errno 2] No such file or directory: '/Users/mhostert/Repos/PETITE/MH_data//auxiliary/Ann/Ann_AdaptiveMaps.npy'\n",
      "Tried to load adaptive maps /Users/mhostert/Repos/PETITE/MH_data//auxiliary/Ann/Ann_AdaptiveMaps.npy but could not find them.\n",
      "Trying again at /Users/mhostert/Repos/PETITE/MH_data/Ann/Ann_AdaptiveMaps.npy\n",
      "File being processed:  /Users/mhostert/Repos/PETITE/MH_data/Ann/Ann_AdaptiveMaps.npy\n",
      "[Errno 2] No such file or directory: '/Users/mhostert/Repos/PETITE/MH_data//auxiliary/Moller/Moller_AdaptiveMaps.npy'\n",
      "Tried to load adaptive maps /Users/mhostert/Repos/PETITE/MH_data//auxiliary/Moller/Moller_AdaptiveMaps.npy but could not find them.\n",
      "Trying again at /Users/mhostert/Repos/PETITE/MH_data/Moller/Moller_AdaptiveMaps.npy\n",
      "File being processed:  /Users/mhostert/Repos/PETITE/MH_data/Moller/Moller_AdaptiveMaps.npy\n",
      "[Errno 2] No such file or directory: '/Users/mhostert/Repos/PETITE/MH_data//auxiliary/Bhabha/Bhabha_AdaptiveMaps.npy'\n",
      "Tried to load adaptive maps /Users/mhostert/Repos/PETITE/MH_data//auxiliary/Bhabha/Bhabha_AdaptiveMaps.npy but could not find them.\n",
      "Trying again at /Users/mhostert/Repos/PETITE/MH_data/Bhabha/Bhabha_AdaptiveMaps.npy\n",
      "File being processed:  /Users/mhostert/Repos/PETITE/MH_data/Bhabha/Bhabha_AdaptiveMaps.npy\n",
      "Saved cross sections to /Users/mhostert/Repos/PETITE/MH_data//sm_xsecs.pkl\n",
      "Saved samples to /Users/mhostert/Repos/PETITE/MH_data//sm_maps.pkl\n",
      "Saving xsec and inv mfp interpolators...\n",
      "Saved.\n"
     ]
    }
   ],
   "source": [
    "# Find maxes for each process\n",
    "genint.call_find_maxes(processing_params, processes_to_do)\n",
    "\n",
    "# Need to save xsec and invmfp interpolators as well\n",
    "genint.create_xsec_interp(training_params)"
   ]
  },
  {
   "cell_type": "markdown",
   "metadata": {},
   "source": [
    "## BSM stuff (I haven't looked here yet)"
   ]
  },
  {
   "cell_type": "code",
   "execution_count": 73,
   "metadata": {},
   "outputs": [
    {
     "name": "stdout",
     "output_type": "stream",
     "text": [
      "Using specified m_T = 200.0\n",
      "Stitched integrator saved as /Users/mhostert/Repos/PETITE/coarsegrid_test/DarkBrem/mV_3MeV//DarkBrem_AdaptiveMaps.npy\n",
      "Cleaning up files in /Users/mhostert/Repos/PETITE/coarsegrid_test/DarkBrem/mV_3MeV/\n",
      "Using specified m_T = 200.0\n"
     ]
    },
    {
     "name": "stderr",
     "output_type": "stream",
     "text": [
      "/Users/mhostert/Repos/PETITE/src/PETITE/radiative_return.py:39: RuntimeWarning: invalid value encountered in power\n",
      "  (8.0 + 3.0 * beta) * np.power(1.0 - x, beta / 2.0 - 1.0) - 4.0 * (1.0 + x)\n",
      "/Users/mhostert/Repos/PETITE/src/PETITE/radiative_return.py:39: RuntimeWarning: invalid value encountered in power\n",
      "  (8.0 + 3.0 * beta) * np.power(1.0 - x, beta / 2.0 - 1.0) - 4.0 * (1.0 + x)\n",
      "/Users/mhostert/Repos/PETITE/src/PETITE/radiative_return.py:39: RuntimeWarning: invalid value encountered in power\n",
      "  (8.0 + 3.0 * beta) * np.power(1.0 - x, beta / 2.0 - 1.0) - 4.0 * (1.0 + x)\n",
      "/Users/mhostert/Repos/PETITE/src/PETITE/radiative_return.py:39: RuntimeWarning: invalid value encountered in power\n",
      "  (8.0 + 3.0 * beta) * np.power(1.0 - x, beta / 2.0 - 1.0) - 4.0 * (1.0 + x)\n",
      "/Users/mhostert/Repos/PETITE/src/PETITE/radiative_return.py:39: RuntimeWarning: invalid value encountered in power\n",
      "  (8.0 + 3.0 * beta) * np.power(1.0 - x, beta / 2.0 - 1.0) - 4.0 * (1.0 + x)\n",
      "/Users/mhostert/Repos/PETITE/src/PETITE/radiative_return.py:39: RuntimeWarning: invalid value encountered in power\n",
      "  (8.0 + 3.0 * beta) * np.power(1.0 - x, beta / 2.0 - 1.0) - 4.0 * (1.0 + x)\n",
      "/Users/mhostert/Repos/PETITE/src/PETITE/radiative_return.py:39: RuntimeWarning: invalid value encountered in power\n",
      "  (8.0 + 3.0 * beta) * np.power(1.0 - x, beta / 2.0 - 1.0) - 4.0 * (1.0 + x)\n",
      "/Users/mhostert/Repos/PETITE/src/PETITE/radiative_return.py:39: RuntimeWarning: invalid value encountered in power\n",
      "  (8.0 + 3.0 * beta) * np.power(1.0 - x, beta / 2.0 - 1.0) - 4.0 * (1.0 + x)\n",
      "/Users/mhostert/Repos/PETITE/src/PETITE/radiative_return.py:39: RuntimeWarning: invalid value encountered in power\n",
      "  (8.0 + 3.0 * beta) * np.power(1.0 - x, beta / 2.0 - 1.0) - 4.0 * (1.0 + x)\n",
      "/Users/mhostert/Repos/PETITE/src/PETITE/radiative_return.py:39: RuntimeWarning: invalid value encountered in power\n",
      "  (8.0 + 3.0 * beta) * np.power(1.0 - x, beta / 2.0 - 1.0) - 4.0 * (1.0 + x)\n",
      "/Users/mhostert/Repos/PETITE/src/PETITE/radiative_return.py:39: RuntimeWarning: invalid value encountered in power\n",
      "  (8.0 + 3.0 * beta) * np.power(1.0 - x, beta / 2.0 - 1.0) - 4.0 * (1.0 + x)\n",
      "/Users/mhostert/Repos/PETITE/src/PETITE/radiative_return.py:39: RuntimeWarning: invalid value encountered in power\n",
      "  (8.0 + 3.0 * beta) * np.power(1.0 - x, beta / 2.0 - 1.0) - 4.0 * (1.0 + x)\n",
      "/Users/mhostert/Repos/PETITE/src/PETITE/radiative_return.py:39: RuntimeWarning: invalid value encountered in power\n",
      "  (8.0 + 3.0 * beta) * np.power(1.0 - x, beta / 2.0 - 1.0) - 4.0 * (1.0 + x)\n",
      "/Users/mhostert/Repos/PETITE/src/PETITE/radiative_return.py:39: RuntimeWarning: invalid value encountered in power\n",
      "  (8.0 + 3.0 * beta) * np.power(1.0 - x, beta / 2.0 - 1.0) - 4.0 * (1.0 + x)\n"
     ]
    },
    {
     "name": "stdout",
     "output_type": "stream",
     "text": [
      "Stitched integrator saved as /Users/mhostert/Repos/PETITE/coarsegrid_test/DarkAnn/mV_3MeV//DarkAnn_AdaptiveMaps.npy\n",
      "Cleaning up files in /Users/mhostert/Repos/PETITE/coarsegrid_test/DarkAnn/mV_3MeV/\n",
      "Using specified m_T = 200.0\n",
      "Stitched integrator saved as /Users/mhostert/Repos/PETITE/coarsegrid_test/DarkComp/mV_3MeV//DarkComp_AdaptiveMaps.npy\n",
      "Cleaning up files in /Users/mhostert/Repos/PETITE/coarsegrid_test/DarkComp/mV_3MeV/\n",
      "Using specified m_T = 200.0\n"
     ]
    },
    {
     "name": "stderr",
     "output_type": "stream",
     "text": [
      "/Users/mhostert/Repos/PETITE/src/PETITE/all_processes.py:276: RuntimeWarning: invalid value encountered in sqrt\n",
      "  k = np.sqrt((x * Ebeam) ** 2 - mV**2)\n"
     ]
    },
    {
     "ename": "KeyboardInterrupt",
     "evalue": "",
     "output_type": "error",
     "traceback": [
      "\u001b[0;31m---------------------------------------------------------------------------\u001b[0m",
      "\u001b[0;31mKeyboardInterrupt\u001b[0m                         Traceback (most recent call last)",
      "Cell \u001b[0;32mIn[73], line 30\u001b[0m\n\u001b[1;32m     28\u001b[0m         training_params\u001b[38;5;241m.\u001b[39mupdate({\u001b[38;5;124m'\u001b[39m\u001b[38;5;124minitial_energy_list\u001b[39m\u001b[38;5;124m'\u001b[39m:initial_energy_list})\n\u001b[1;32m     29\u001b[0m training_params\u001b[38;5;241m.\u001b[39mupdate({\u001b[38;5;124m\"\u001b[39m\u001b[38;5;124mmV\u001b[39m\u001b[38;5;124m\"\u001b[39m:mV})\n\u001b[0;32m---> 30\u001b[0m \u001b[43mgenint\u001b[49m\u001b[38;5;241;43m.\u001b[39;49m\u001b[43mmake_integrators\u001b[49m\u001b[43m(\u001b[49m\u001b[43mtraining_params\u001b[49m\u001b[43m,\u001b[49m\u001b[43m \u001b[49m\u001b[43mprocess\u001b[49m\u001b[43m,\u001b[49m\u001b[43m \u001b[49m\u001b[43moverwrite\u001b[49m\u001b[38;5;241;43m=\u001b[39;49m\u001b[38;5;28;43;01mTrue\u001b[39;49;00m\u001b[43m)\u001b[49m\n\u001b[1;32m     31\u001b[0m genint\u001b[38;5;241m.\u001b[39mstitch_integrators(training_params[\u001b[38;5;124m'\u001b[39m\u001b[38;5;124msave_location\u001b[39m\u001b[38;5;124m'\u001b[39m] \u001b[38;5;241m+\u001b[39m process \u001b[38;5;241m+\u001b[39m \u001b[38;5;124m'\u001b[39m\u001b[38;5;124m/mV_\u001b[39m\u001b[38;5;124m'\u001b[39m \u001b[38;5;241m+\u001b[39m \u001b[38;5;28mstr\u001b[39m(\u001b[38;5;28mint\u001b[39m(np\u001b[38;5;241m.\u001b[39mfloor(mV\u001b[38;5;241m*\u001b[39m\u001b[38;5;241m1000.\u001b[39m))) \u001b[38;5;241m+\u001b[39m \u001b[38;5;124m\"\u001b[39m\u001b[38;5;124mMeV/\u001b[39m\u001b[38;5;124m\"\u001b[39m)\n\u001b[1;32m     32\u001b[0m genint\u001b[38;5;241m.\u001b[39mcleanup(training_params[\u001b[38;5;124m'\u001b[39m\u001b[38;5;124msave_location\u001b[39m\u001b[38;5;124m'\u001b[39m] \u001b[38;5;241m+\u001b[39m process \u001b[38;5;241m+\u001b[39m \u001b[38;5;124m'\u001b[39m\u001b[38;5;124m/mV_\u001b[39m\u001b[38;5;124m'\u001b[39m \u001b[38;5;241m+\u001b[39m \u001b[38;5;28mstr\u001b[39m(\u001b[38;5;28mint\u001b[39m(np\u001b[38;5;241m.\u001b[39mfloor(mV\u001b[38;5;241m*\u001b[39m\u001b[38;5;241m1000.\u001b[39m))) \u001b[38;5;241m+\u001b[39m \u001b[38;5;124m\"\u001b[39m\u001b[38;5;124mMeV/\u001b[39m\u001b[38;5;124m\"\u001b[39m)\n",
      "File \u001b[0;32m~/Repos/PETITE/utilities/generate_integrators.py:163\u001b[0m, in \u001b[0;36mmake_integrators\u001b[0;34m(params, process, paralellize, overwrite)\u001b[0m\n\u001b[1;32m    160\u001b[0m \u001b[38;5;28;01mif\u001b[39;00m paralellize:\n\u001b[1;32m    161\u001b[0m     \u001b[38;5;66;03m# pool parallelizes the generation of integrators\u001b[39;00m\n\u001b[1;32m    162\u001b[0m     pool \u001b[38;5;241m=\u001b[39m Pool()\n\u001b[0;32m--> 163\u001b[0m     _ \u001b[38;5;241m=\u001b[39m \u001b[43mpool\u001b[49m\u001b[38;5;241;43m.\u001b[39;49m\u001b[43mmap\u001b[49m\u001b[43m(\u001b[49m\n\u001b[1;32m    164\u001b[0m \u001b[43m        \u001b[49m\u001b[43mpartial\u001b[49m\u001b[43m(\u001b[49m\n\u001b[1;32m    165\u001b[0m \u001b[43m            \u001b[49m\u001b[43mrun_vegas_in_parallel\u001b[49m\u001b[43m,\u001b[49m\n\u001b[1;32m    166\u001b[0m \u001b[43m            \u001b[49m\u001b[43mparams\u001b[49m\u001b[43m,\u001b[49m\n\u001b[1;32m    167\u001b[0m \u001b[43m            \u001b[49m\u001b[43mprocess\u001b[49m\u001b[43m,\u001b[49m\n\u001b[1;32m    168\u001b[0m \u001b[43m            \u001b[49m\u001b[43mverbosity_mode\u001b[49m\u001b[43m,\u001b[49m\n\u001b[1;32m    169\u001b[0m \u001b[43m            \u001b[49m\u001b[43mprocess_directory\u001b[49m\u001b[43m,\u001b[49m\n\u001b[1;32m    170\u001b[0m \u001b[43m            \u001b[49m\u001b[43moverwrite\u001b[49m\u001b[38;5;241;43m=\u001b[39;49m\u001b[43moverwrite\u001b[49m\u001b[43m,\u001b[49m\n\u001b[1;32m    171\u001b[0m \u001b[43m        \u001b[49m\u001b[43m)\u001b[49m\u001b[43m,\u001b[49m\n\u001b[1;32m    172\u001b[0m \u001b[43m        \u001b[49m\u001b[43menergy_index_list\u001b[49m\u001b[43m,\u001b[49m\n\u001b[1;32m    173\u001b[0m \u001b[43m    \u001b[49m\u001b[43m)\u001b[49m\n\u001b[1;32m    174\u001b[0m \u001b[38;5;28;01melse\u001b[39;00m:\n\u001b[1;32m    175\u001b[0m     \u001b[38;5;28;01mfor\u001b[39;00m energy_index \u001b[38;5;129;01min\u001b[39;00m energy_index_list:\n",
      "File \u001b[0;32m/opt/homebrew/Caskroom/miniforge/base/envs/darknews/lib/python3.11/multiprocessing/pool.py:367\u001b[0m, in \u001b[0;36mPool.map\u001b[0;34m(self, func, iterable, chunksize)\u001b[0m\n\u001b[1;32m    362\u001b[0m \u001b[38;5;28;01mdef\u001b[39;00m \u001b[38;5;21mmap\u001b[39m(\u001b[38;5;28mself\u001b[39m, func, iterable, chunksize\u001b[38;5;241m=\u001b[39m\u001b[38;5;28;01mNone\u001b[39;00m):\n\u001b[1;32m    363\u001b[0m \u001b[38;5;250m    \u001b[39m\u001b[38;5;124;03m'''\u001b[39;00m\n\u001b[1;32m    364\u001b[0m \u001b[38;5;124;03m    Apply `func` to each element in `iterable`, collecting the results\u001b[39;00m\n\u001b[1;32m    365\u001b[0m \u001b[38;5;124;03m    in a list that is returned.\u001b[39;00m\n\u001b[1;32m    366\u001b[0m \u001b[38;5;124;03m    '''\u001b[39;00m\n\u001b[0;32m--> 367\u001b[0m     \u001b[38;5;28;01mreturn\u001b[39;00m \u001b[38;5;28;43mself\u001b[39;49m\u001b[38;5;241;43m.\u001b[39;49m\u001b[43m_map_async\u001b[49m\u001b[43m(\u001b[49m\u001b[43mfunc\u001b[49m\u001b[43m,\u001b[49m\u001b[43m \u001b[49m\u001b[43miterable\u001b[49m\u001b[43m,\u001b[49m\u001b[43m \u001b[49m\u001b[43mmapstar\u001b[49m\u001b[43m,\u001b[49m\u001b[43m \u001b[49m\u001b[43mchunksize\u001b[49m\u001b[43m)\u001b[49m\u001b[38;5;241;43m.\u001b[39;49m\u001b[43mget\u001b[49m\u001b[43m(\u001b[49m\u001b[43m)\u001b[49m\n",
      "File \u001b[0;32m/opt/homebrew/Caskroom/miniforge/base/envs/darknews/lib/python3.11/multiprocessing/pool.py:768\u001b[0m, in \u001b[0;36mApplyResult.get\u001b[0;34m(self, timeout)\u001b[0m\n\u001b[1;32m    767\u001b[0m \u001b[38;5;28;01mdef\u001b[39;00m \u001b[38;5;21mget\u001b[39m(\u001b[38;5;28mself\u001b[39m, timeout\u001b[38;5;241m=\u001b[39m\u001b[38;5;28;01mNone\u001b[39;00m):\n\u001b[0;32m--> 768\u001b[0m     \u001b[38;5;28;43mself\u001b[39;49m\u001b[38;5;241;43m.\u001b[39;49m\u001b[43mwait\u001b[49m\u001b[43m(\u001b[49m\u001b[43mtimeout\u001b[49m\u001b[43m)\u001b[49m\n\u001b[1;32m    769\u001b[0m     \u001b[38;5;28;01mif\u001b[39;00m \u001b[38;5;129;01mnot\u001b[39;00m \u001b[38;5;28mself\u001b[39m\u001b[38;5;241m.\u001b[39mready():\n\u001b[1;32m    770\u001b[0m         \u001b[38;5;28;01mraise\u001b[39;00m \u001b[38;5;167;01mTimeoutError\u001b[39;00m\n",
      "File \u001b[0;32m/opt/homebrew/Caskroom/miniforge/base/envs/darknews/lib/python3.11/multiprocessing/pool.py:765\u001b[0m, in \u001b[0;36mApplyResult.wait\u001b[0;34m(self, timeout)\u001b[0m\n\u001b[1;32m    764\u001b[0m \u001b[38;5;28;01mdef\u001b[39;00m \u001b[38;5;21mwait\u001b[39m(\u001b[38;5;28mself\u001b[39m, timeout\u001b[38;5;241m=\u001b[39m\u001b[38;5;28;01mNone\u001b[39;00m):\n\u001b[0;32m--> 765\u001b[0m     \u001b[38;5;28;43mself\u001b[39;49m\u001b[38;5;241;43m.\u001b[39;49m\u001b[43m_event\u001b[49m\u001b[38;5;241;43m.\u001b[39;49m\u001b[43mwait\u001b[49m\u001b[43m(\u001b[49m\u001b[43mtimeout\u001b[49m\u001b[43m)\u001b[49m\n",
      "File \u001b[0;32m/opt/homebrew/Caskroom/miniforge/base/envs/darknews/lib/python3.11/threading.py:629\u001b[0m, in \u001b[0;36mEvent.wait\u001b[0;34m(self, timeout)\u001b[0m\n\u001b[1;32m    627\u001b[0m signaled \u001b[38;5;241m=\u001b[39m \u001b[38;5;28mself\u001b[39m\u001b[38;5;241m.\u001b[39m_flag\n\u001b[1;32m    628\u001b[0m \u001b[38;5;28;01mif\u001b[39;00m \u001b[38;5;129;01mnot\u001b[39;00m signaled:\n\u001b[0;32m--> 629\u001b[0m     signaled \u001b[38;5;241m=\u001b[39m \u001b[38;5;28;43mself\u001b[39;49m\u001b[38;5;241;43m.\u001b[39;49m\u001b[43m_cond\u001b[49m\u001b[38;5;241;43m.\u001b[39;49m\u001b[43mwait\u001b[49m\u001b[43m(\u001b[49m\u001b[43mtimeout\u001b[49m\u001b[43m)\u001b[49m\n\u001b[1;32m    630\u001b[0m \u001b[38;5;28;01mreturn\u001b[39;00m signaled\n",
      "File \u001b[0;32m/opt/homebrew/Caskroom/miniforge/base/envs/darknews/lib/python3.11/threading.py:327\u001b[0m, in \u001b[0;36mCondition.wait\u001b[0;34m(self, timeout)\u001b[0m\n\u001b[1;32m    325\u001b[0m \u001b[38;5;28;01mtry\u001b[39;00m:    \u001b[38;5;66;03m# restore state no matter what (e.g., KeyboardInterrupt)\u001b[39;00m\n\u001b[1;32m    326\u001b[0m     \u001b[38;5;28;01mif\u001b[39;00m timeout \u001b[38;5;129;01mis\u001b[39;00m \u001b[38;5;28;01mNone\u001b[39;00m:\n\u001b[0;32m--> 327\u001b[0m         \u001b[43mwaiter\u001b[49m\u001b[38;5;241;43m.\u001b[39;49m\u001b[43macquire\u001b[49m\u001b[43m(\u001b[49m\u001b[43m)\u001b[49m\n\u001b[1;32m    328\u001b[0m         gotit \u001b[38;5;241m=\u001b[39m \u001b[38;5;28;01mTrue\u001b[39;00m\n\u001b[1;32m    329\u001b[0m     \u001b[38;5;28;01melse\u001b[39;00m:\n",
      "\u001b[0;31mKeyboardInterrupt\u001b[0m: "
     ]
    }
   ],
   "source": [
    "##################################\n",
    "##         Dark processes       ##\n",
    "##################################\n",
    "initial_energy_list = np.geomspace(0.01, 500, 500)\n",
    "# Dark vector masses in GeV\n",
    "#mV_list = [0.001, 0.003, 0.010, 0.030, 0.100, 0.300, 1.00]\n",
    "mV_list = [0.003, 0.030, 0.300]\n",
    "save_location = path + '/coarsegrid_test/'\n",
    "training_params = {'verbosity': False, \n",
    "                   'initial_energy_list': initial_energy_list,\n",
    "                   'save_location': save_location,\n",
    "                   'run_find_maxes':True, \n",
    "                   'mV_list': mV_list, \n",
    "                   'training_target': 'hydrogen', \n",
    "                   'mT': 200.0}\n",
    "processes_to_do = ['DarkBrem', 'DarkAnn','DarkComp']\n",
    "\n",
    "for mV in mV_list:\n",
    "    for process in processes_to_do:\n",
    "        if process == 'DarkBrem':\n",
    "            if mV > initial_energy_list[0]:\n",
    "                initial_energy_list = np.logspace(np.log10(1.01*mV), np.log10(initial_energy_list[-1]), len(initial_energy_list))\n",
    "                training_params.update({'initial_energy_list':initial_energy_list})\n",
    "        if process == 'DarkAnn':\n",
    "            if mV**2 > 2*pconst.m_electron*(initial_energy_list[0] + pconst.m_electron):\n",
    "                Ee0 = 1.01*((mV**2 - 2*pconst.m_electron**2)/(2*pconst.m_electron))\n",
    "                initial_energy_list = np.logspace(np.log10(Ee0), np.log10(initial_energy_list[-1]), len(initial_energy_list))\n",
    "                training_params.update({'initial_energy_list':initial_energy_list})\n",
    "        training_params.update({\"mV\":mV})\n",
    "        genint.make_integrators(training_params, process, overwrite=True)\n",
    "        genint.stitch_integrators(training_params['save_location'] + process + '/mV_' + str(int(np.floor(mV*1000.))) + \"MeV/\")\n",
    "        genint.cleanup(training_params['save_location'] + process + '/mV_' + str(int(np.floor(mV*1000.))) + \"MeV/\")\n",
    "\n",
    "processes_to_do = ['DarkBrem', 'DarkAnn', 'DarkComp']\n",
    "processing_params = {'process_targets':['graphite','lead'], 'save_location':save_location, 'mV_list':mV_list}\n",
    "genint.call_find_maxes(processing_params, processes_to_do)"
   ]
  }
 ],
 "metadata": {
  "kernelspec": {
   "display_name": "darknews",
   "language": "python",
   "name": "python3"
  },
  "language_info": {
   "codemirror_mode": {
    "name": "ipython",
    "version": 3
   },
   "file_extension": ".py",
   "mimetype": "text/x-python",
   "name": "python",
   "nbconvert_exporter": "python",
   "pygments_lexer": "ipython3",
   "version": "3.11.8"
  },
  "orig_nbformat": 4
 },
 "nbformat": 4,
 "nbformat_minor": 2
}
